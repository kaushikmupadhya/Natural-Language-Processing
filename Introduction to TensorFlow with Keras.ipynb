{
 "cells": [
  {
   "cell_type": "markdown",
   "metadata": {},
   "source": [
    "<div class=\"alert alert-block alert-info\">\n",
    "    <h1>Introduction to Tensorflow with Keras</h1>\n",
    "    <h3>Author: Kaushik Manjunatha </h2>\n",
    "    <h4>This is a simple tutorial to work with TensorFlow and Keras</h3>\n",
    "\n",
    "    \n",
    "</div>\n",
    "\n",
    "One of the most well known deep learning frameworks is tensorflow with a keras backend.\n",
    "\n",
    "One core advantage of deep learning frameworks is that they let us quickly piece together models consisting of different types of layers without having to worry about how to train the network using backpropagation.\n",
    "\n",
    "Tensorflow, as the name suggests, works on tensors. A [tensor](https://en.wikipedia.org/wiki/Tensor#As_multidimensional_arrays) can be interpreted as a multidimensional array or a matrix of higher order (e.g. a matrix with dimensions $d_0 \\times d_1 \\times \\dots \\times d_n$). Tensorflow knows how to train a model by using tensors and a method called [automatic differentiation](https://en.wikipedia.org/wiki/Automatic_differentiation).\n",
    "\n",
    "A tensorflow model is then a sequence of operations on a tensor. Examples for these operations are applying an activation function, multiplying a tensor by a weight matrix or adding tensors. Tensorflow builds a computation graph of these operations, allowing it to apply the [chain rule ](https://en.wikipedia.org/wiki/Chain_rule) to each of the operations in the computation graph to compute the gradient in respect to each trainable weight in the model."
   ]
  },
  {
   "cell_type": "markdown",
   "metadata": {},
   "source": [
    "## Types of layers in Tensorflow with Keras\n",
    "\n",
    "Tensorflow comes with a set of predefined layers. Here a few:\n",
    "\n",
    "## [Core Layers](https://keras.io/api/layers/core_layers/)\n",
    "\n",
    "### [Input Object](https://keras.io/api/layers/core_layers/input/)\n",
    "Instantiates a tensor object on which operations can be performed. The input object has no trainable weights and is used for converting the input to our model into a tensor. The most important parameter here is *shape*, which tells us the dimensionality of the input to our model. **Attention:** The input object is the only part of the model where you need to specify the dimensionality of the input. All subsequent layers automatically figure out the dimensionality of their respective inputs.\n",
    "\n",
    "\n",
    "### [Dense Layer](https://keras.io/api/layers/core_layers/dense/)\n",
    "Creates a fully connected neural network layer. Here you can specify the output dimension (*units*) and the activation function (*activation*).\n",
    "\n",
    "### [Activation Layer](https://keras.io/api/layers/core_layers/activation/)\n",
    "Applies an activation function to an output of a model. Has no trainable weights.\n",
    "\n",
    "### [Embedding Layer](https://keras.io/api/layers/core_layers/embedding/)\n",
    "For NLP applications inputs are usually given as integer indexes. This is similar to one hot embeddings. In contrast to what we saw in previous assignments, the one hot embedding of a token used here is just an integer corresponding to the index of the one hot embedding that is $1$. Example: Traditional one hot embedding of a word might be $\\vec{w} = \\begin{pmatrix} 0 & 0 & 0 & 1 & 0 & 0\\end{pmatrix}^T$. Then the integer encoding of the word would be $w_{ie} = 3$.\n",
    "\n",
    "The embedding layer turns the integer encoded tokens into $n$-dimensional vectors. The parameters for the embedding layer are the input dimension (*input_dim*, size of vocabulary) and the output dimension (*output_dim*, size of the embeddings). Usually the weights of this layer are trainable. It is also possible to provide the weights using pretrained embeddings (e.g. Word2Vec, FastText) and set the weights to non trainable.\n",
    "\n",
    "---\n",
    "\n",
    "\n",
    "## [Recurrent Layers](https://keras.io/api/layers/recurrent_layers/)\n",
    "\n",
    "### [LSTM Layer](https://keras.io/api/layers/recurrent_layers/lstm/)\n",
    "\n",
    "A simple LSTM layer. The most important parameter is *units*, which defines the dimensionality of the output.  \n",
    "Other parameters include:\n",
    "- *return_sequences*: If this is set to *True*, the LSTM will return all outputs (one per input). Default is *False*, meaning the LSTM only returns the output of the last time step.\n",
    "- *return_states*: If this is set to *True*, the LSTM will return the last hidden state alongside the output of the LSTM. Default is *False*, meaning the LSTM will only return the output of the last timestep and not the last hidden state.\n",
    "\n",
    "### [TimeDistributed Layer](https://keras.io/api/layers/recurrent_layers/time_distributed/)\n",
    "\n",
    "This layer is a wrapper around a standard layer which allows us to apply that layer to a sequence of inputs.  \n",
    "Example: Say you have an LSTM that returns a sequence of outputs (one per input, *return_sequences* is set to *True*). Now you want to apply a fully connected dense layer to this sequences. Assume each output of the sequence has a length of $32$. This would mean we want a fully connected layer with $32$ inputs and apply it to each element of the sequence. For this we can create the dense layer the following way: ```dense_layer = TimeDistributed(Dense(32))```"
   ]
  },
  {
   "cell_type": "markdown",
   "metadata": {},
   "source": [
    "## Example 1: XOR Problem\n",
    "\n",
    "### Defining the architecture of the model\n",
    "\n",
    "Let us create a simple neural network to solve the xor problem.\n",
    "\n",
    "This network should have inputs of size $2$, a single hidden layer and an output layer, producing outputs of size $1$.\n",
    "\n",
    "The following cell shows how to define this model with tensorflow / keras."
   ]
  },
  {
   "cell_type": "code",
   "execution_count": 1,
   "metadata": {},
   "outputs": [
    {
     "name": "stdout",
     "output_type": "stream",
     "text": [
      "X ([0, 0], [0, 1], [1, 0], [1, 1])\n",
      "Y (0, 1, 1, 0)\n",
      "\n",
      "Model: \"XOR_Model\"\n",
      "_________________________________________________________________\n",
      "Layer (type)                 Output Shape              Param #   \n",
      "=================================================================\n",
      "Input (InputLayer)           [(None, 2)]               0         \n",
      "_________________________________________________________________\n",
      "dense (Dense)                (None, 32)                96        \n",
      "_________________________________________________________________\n",
      "Output (Dense)               (None, 1)                 33        \n",
      "=================================================================\n",
      "Total params: 129\n",
      "Trainable params: 129\n",
      "Non-trainable params: 0\n",
      "_________________________________________________________________\n"
     ]
    }
   ],
   "source": [
    "from tensorflow.keras.models import Model\n",
    "from tensorflow.keras.layers import Input, Dense\n",
    "\n",
    "# Define a basic neural network for the xor problem\n",
    "training_data = [\n",
    "    ([0, 0], 0), # 0 xor 0 = 0\n",
    "    ([0, 1], 1), # 0 xor 1 = 1\n",
    "    ([1, 0], 1), # 1 xor 0 = 1\n",
    "    ([1, 1], 0)  # 1 xor 1 = 0\n",
    "]\n",
    "\n",
    "# Split the training data into two lists X (inputs) and Y (outputs)\n",
    "X, Y = zip(*training_data)\n",
    "print('X', X)\n",
    "print('Y', Y)\n",
    "print()\n",
    "# Our inputs have a dimensionality of 2, so create an input object for this\n",
    "# Notice that the shape is given as the tuple (2, ), not the integer 2\n",
    "\n",
    "input_object = Input(shape=(2,), name='Input')\n",
    "\n",
    "# Create a dense NN layer with 4 outputs\n",
    "hidden_layer = Dense(32, activation='relu')\n",
    "# Apply this to the inputs\n",
    "y_hidden = hidden_layer(input_object)\n",
    "\n",
    "# Create another dense NN layer with a single output\n",
    "output_layer = Dense(1, activation='sigmoid', name='Output')\n",
    "# Apply the output of the hidden layer to this layer\n",
    "y = output_layer(y_hidden)\n",
    "\n",
    "# Piece everything together into a model\n",
    "model = Model(input_object, y, name='XOR_Model')\n",
    "\n",
    "# Print a summary of our model\n",
    "model.summary()"
   ]
  },
  {
   "cell_type": "markdown",
   "metadata": {},
   "source": [
    "## Example 1: XOR Problem\n",
    "\n",
    "### Making the model trainable\n",
    "\n",
    "To make the model trainable we need to compile it. For this we need the following three parameters:\n",
    "\n",
    "- loss: The loss function of our network (e.g. cross-entropy, mean square error, ...)\n",
    "- optimizer: How we minimize the loss of the network (almost always Adam)\n",
    "- metrics: Which metrics you want to evaluate during training (usually Accuracy)\n",
    "\n",
    "After this we train our model using the method ```fit```. This method needs the following parameters:\n",
    "\n",
    "- x: The inputs to the model. Here you give all inputs at once\n",
    "- y: The desired outputs of the model. You give all at once\n",
    "- epochs: Number of epochs to train\n",
    "- batch_size: How many samples the model should look at for one update of the gradient"
   ]
  },
  {
   "cell_type": "code",
   "execution_count": 2,
   "metadata": {},
   "outputs": [
    {
     "name": "stdout",
     "output_type": "stream",
     "text": [
      "Input   Predicted   True_Output\n",
      "[0, 0]       0.41          0.00\n",
      "[0, 1]       0.69          1.00\n",
      "[1, 0]       0.82          1.00\n",
      "[1, 1]       0.20          0.00\n"
     ]
    }
   ],
   "source": [
    "# Compile the model with the loss, ...\n",
    "model.compile(\n",
    "    loss='mse',\n",
    "    optimizer='adam',\n",
    "    metrics=['accuracy', 'binary_accuracy']\n",
    ")\n",
    "\n",
    "# Train the model on the inputs\n",
    "history = model.fit(\n",
    "    x=X,\n",
    "    y=Y,\n",
    "    epochs=500,\n",
    "    batch_size=2,\n",
    "    verbose=0 # Do not print after each epoch (we have 500 epochs and don't want to clutter the output)\n",
    ")\n",
    "\n",
    "# Predict all outputs\n",
    "predictions = model.predict(X)\n",
    "\n",
    "print('Input   Predicted   True_Output')\n",
    "for xi, yp, yi in zip(X, predictions, Y):\n",
    "    print(f'{str(xi):8}{yp[0]:9.2f}{yi:14.2f}')\n"
   ]
  },
  {
   "cell_type": "markdown",
   "metadata": {},
   "source": [
    "### Plotting the model history\n",
    "\n",
    "The training history of the model is stored in the variable ```history```.\n",
    "\n",
    "We can access the loss, accuracy and additional metrics as:\n",
    "\n",
    "```history.history['loss'], history.history[metric], ...```"
   ]
  },
  {
   "cell_type": "code",
   "execution_count": 3,
   "metadata": {},
   "outputs": [
    {
     "data": {
      "image/png": "[encoded data removed]",
      "text/plain": [
       "<Figure size 432x288 with 1 Axes>"
      ]
     },
     "metadata": {
      "needs_background": "light"
     },
     "output_type": "display_data"
    }
   ],
   "source": [
    "import matplotlib.pyplot as plt\n",
    "\n",
    "plt.title('Model history')\n",
    "plt.plot(history.history['loss'], label='Loss')\n",
    "plt.plot(history.history['accuracy'], label='Accuracy')\n",
    "\n",
    "\n",
    "plt.xlabel('Epoch')\n",
    "plt.legend()\n",
    "plt.grid()"
   ]
  }
 ],
 "metadata": {
  "kernelspec": {
   "display_name": "Python 3",
   "language": "python",
   "name": "python3"
  },
  "language_info": {
   "codemirror_mode": {
    "name": "ipython",
    "version": 3
   },
   "file_extension": ".py",
   "mimetype": "text/x-python",
   "name": "python",
   "nbconvert_exporter": "python",
   "pygments_lexer": "ipython3",
   "version": "3.7.6"
  }
 },
 "nbformat": 4,
 "nbformat_minor": 4
}
